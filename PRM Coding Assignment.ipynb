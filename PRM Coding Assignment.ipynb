{
 "cells": [
  {
   "cell_type": "code",
   "execution_count": 9,
   "id": "fe688dc2",
   "metadata": {},
   "outputs": [
    {
     "name": "stdout",
     "output_type": "stream",
     "text": [
      "Enter the number of elements : 4\n",
      "Enter the elements (space seperated) : great hello hiyo abc\n",
      "['great', 'abc', 'hello', 'hiyo']\n"
     ]
    }
   ],
   "source": [
    "#You will have a number of elements and in the next n lines element of a list. \n",
    "#You have to create a list from the given strings.\n",
    "#You have to sort the list based on 2nd last character of a string.\n",
    "\n",
    "n = int(input(\"Enter the number of elements : \"))\n",
    "x = [x for x in input(\"Enter the elements (space seperated) : \").split()]\n",
    "final_sorted = sorted(x, key= lambda x: x[-2])\n",
    "print(final_sorted)\n"
   ]
  },
  {
   "cell_type": "code",
   "execution_count": 32,
   "id": "011446a9",
   "metadata": {},
   "outputs": [
    {
     "name": "stdout",
     "output_type": "stream",
     "text": [
      "Enter the sides of Triangle : 3 4 5\n",
      "Enter the sides of Rectangle : 2 4 2 4\n",
      "Valid Triangle\n",
      "Valid Rectangle\n"
     ]
    }
   ],
   "source": [
    "#Your task is to complete the validate_triangle and validate_rectangle functions for the classes\n",
    "\n",
    "\n",
    "class Triangle():\n",
    "    def __init__(self,lst):\n",
    "        self.lst=lst\n",
    "    def validate_triangle(self,l):\n",
    "        #sum of first 2 sides of the triangle must be greater than the 3rd side\n",
    "        #number of side must be 3\n",
    "        l = sorted(l)\n",
    "        if len(l)==3 and (l[0]+l[1])>l[2]:\n",
    "            return \"Valid Triangle\"         \n",
    "        else:\n",
    "            return \"Invalid Triangle\"\n",
    "class Rectangle():\n",
    "    def __init__(self,lst):\n",
    "        self.lst=lst\n",
    "    def validate_rectangle(self,l):\n",
    "        #sides should be in order l,b,l,b\n",
    "        #2 sides pairs must be equal\n",
    "        if len(l)==4 and  (l[0]==l[2]) and (l[1]==l[3]):\n",
    "            return \"Valid Rectangle\"         \n",
    "        else:\n",
    "            return \"Invalid Rectangle\"\n",
    "\n",
    "triangle_sides=list(map(int,input(\"Enter the sides of Triangle : \").split()))\n",
    "rectangle_sides=list(map(int,input(\"Enter the sides of Rectangle : \").split()))\n",
    "T=Triangle(triangle_sides)       \n",
    "print(T.validate_triangle(triangle_sides))\n",
    "R=Rectangle(rectangle_sides)\n",
    "print(R.validate_rectangle(rectangle_sides))"
   ]
  },
  {
   "cell_type": "code",
   "execution_count": null,
   "id": "a59b1f74",
   "metadata": {},
   "outputs": [],
   "source": []
  }
 ],
 "metadata": {
  "kernelspec": {
   "display_name": "Python 3 (ipykernel)",
   "language": "python",
   "name": "python3"
  },
  "language_info": {
   "codemirror_mode": {
    "name": "ipython",
    "version": 3
   },
   "file_extension": ".py",
   "mimetype": "text/x-python",
   "name": "python",
   "nbconvert_exporter": "python",
   "pygments_lexer": "ipython3",
   "version": "3.9.12"
  }
 },
 "nbformat": 4,
 "nbformat_minor": 5
}
